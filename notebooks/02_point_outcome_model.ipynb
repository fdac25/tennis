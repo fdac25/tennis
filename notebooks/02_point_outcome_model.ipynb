{
 "cells": [
  {
   "cell_type": "markdown",
   "id": "fbb1914f",
   "metadata": {},
   "source": [
    "# Predict whether server wins point\n",
    "\n",
    "This notebook uses the data processed in `data_processing/shots_to_points.ipynb` to train a simple regression model to predict whether the serving player wins the point.\n",
    "\n",
    "## Step 1 - Load data\n"
   ]
  },
  {
   "cell_type": "code",
   "execution_count": 4,
   "id": "21b79a1c",
   "metadata": {},
   "outputs": [
    {
     "name": "stdout",
     "output_type": "stream",
     "text": [
      "✅ Loaded dataset with 73,349 rows\n"
     ]
    },
    {
     "data": {
      "text/html": [
       "<div>\n",
       "<style scoped>\n",
       "    .dataframe tbody tr th:only-of-type {\n",
       "        vertical-align: middle;\n",
       "    }\n",
       "\n",
       "    .dataframe tbody tr th {\n",
       "        vertical-align: top;\n",
       "    }\n",
       "\n",
       "    .dataframe thead th {\n",
       "        text-align: right;\n",
       "    }\n",
       "</style>\n",
       "<table border=\"1\" class=\"dataframe\">\n",
       "  <thead>\n",
       "    <tr style=\"text-align: right;\">\n",
       "      <th></th>\n",
       "      <th>Date</th>\n",
       "      <th>Tournament</th>\n",
       "      <th>Player1</th>\n",
       "      <th>Player2</th>\n",
       "      <th>Point</th>\n",
       "      <th>rally_len</th>\n",
       "      <th>WinningPlayer</th>\n",
       "      <th>ServingPlayer</th>\n",
       "      <th>server_won</th>\n",
       "      <th>backhand</th>\n",
       "      <th>forehand</th>\n",
       "      <th>unknown</th>\n",
       "      <th>forehand_ratio</th>\n",
       "      <th>backhand_ratio</th>\n",
       "    </tr>\n",
       "  </thead>\n",
       "  <tbody>\n",
       "    <tr>\n",
       "      <th>0</th>\n",
       "      <td>1960-05-29</td>\n",
       "      <td>Roland_Garros</td>\n",
       "      <td>Nicola_Pietrangeli</td>\n",
       "      <td>Luis_Ayala</td>\n",
       "      <td>8</td>\n",
       "      <td>3</td>\n",
       "      <td>Nicola_Pietrangeli</td>\n",
       "      <td>Luis_Ayala</td>\n",
       "      <td>False</td>\n",
       "      <td>1</td>\n",
       "      <td>1</td>\n",
       "      <td>1</td>\n",
       "      <td>0.5</td>\n",
       "      <td>0.5</td>\n",
       "    </tr>\n",
       "    <tr>\n",
       "      <th>1</th>\n",
       "      <td>1960-05-29</td>\n",
       "      <td>Roland_Garros</td>\n",
       "      <td>Nicola_Pietrangeli</td>\n",
       "      <td>Luis_Ayala</td>\n",
       "      <td>9</td>\n",
       "      <td>15</td>\n",
       "      <td>Luis_Ayala</td>\n",
       "      <td>Luis_Ayala</td>\n",
       "      <td>True</td>\n",
       "      <td>7</td>\n",
       "      <td>7</td>\n",
       "      <td>1</td>\n",
       "      <td>0.5</td>\n",
       "      <td>0.5</td>\n",
       "    </tr>\n",
       "    <tr>\n",
       "      <th>2</th>\n",
       "      <td>1960-05-29</td>\n",
       "      <td>Roland_Garros</td>\n",
       "      <td>Nicola_Pietrangeli</td>\n",
       "      <td>Luis_Ayala</td>\n",
       "      <td>10</td>\n",
       "      <td>3</td>\n",
       "      <td>Nicola_Pietrangeli</td>\n",
       "      <td>Luis_Ayala</td>\n",
       "      <td>False</td>\n",
       "      <td>1</td>\n",
       "      <td>1</td>\n",
       "      <td>2</td>\n",
       "      <td>0.5</td>\n",
       "      <td>0.5</td>\n",
       "    </tr>\n",
       "    <tr>\n",
       "      <th>3</th>\n",
       "      <td>1960-05-29</td>\n",
       "      <td>Roland_Garros</td>\n",
       "      <td>Nicola_Pietrangeli</td>\n",
       "      <td>Luis_Ayala</td>\n",
       "      <td>11</td>\n",
       "      <td>6</td>\n",
       "      <td>Luis_Ayala</td>\n",
       "      <td>Luis_Ayala</td>\n",
       "      <td>True</td>\n",
       "      <td>3</td>\n",
       "      <td>2</td>\n",
       "      <td>2</td>\n",
       "      <td>0.4</td>\n",
       "      <td>0.6</td>\n",
       "    </tr>\n",
       "    <tr>\n",
       "      <th>4</th>\n",
       "      <td>1960-05-29</td>\n",
       "      <td>Roland_Garros</td>\n",
       "      <td>Nicola_Pietrangeli</td>\n",
       "      <td>Luis_Ayala</td>\n",
       "      <td>12</td>\n",
       "      <td>5</td>\n",
       "      <td>Nicola_Pietrangeli</td>\n",
       "      <td>Luis_Ayala</td>\n",
       "      <td>False</td>\n",
       "      <td>2</td>\n",
       "      <td>2</td>\n",
       "      <td>1</td>\n",
       "      <td>0.5</td>\n",
       "      <td>0.5</td>\n",
       "    </tr>\n",
       "  </tbody>\n",
       "</table>\n",
       "</div>"
      ],
      "text/plain": [
       "         Date     Tournament             Player1     Player2  Point  \\\n",
       "0  1960-05-29  Roland_Garros  Nicola_Pietrangeli  Luis_Ayala      8   \n",
       "1  1960-05-29  Roland_Garros  Nicola_Pietrangeli  Luis_Ayala      9   \n",
       "2  1960-05-29  Roland_Garros  Nicola_Pietrangeli  Luis_Ayala     10   \n",
       "3  1960-05-29  Roland_Garros  Nicola_Pietrangeli  Luis_Ayala     11   \n",
       "4  1960-05-29  Roland_Garros  Nicola_Pietrangeli  Luis_Ayala     12   \n",
       "\n",
       "   rally_len       WinningPlayer ServingPlayer  server_won  backhand  \\\n",
       "0          3  Nicola_Pietrangeli    Luis_Ayala       False         1   \n",
       "1         15          Luis_Ayala    Luis_Ayala        True         7   \n",
       "2          3  Nicola_Pietrangeli    Luis_Ayala       False         1   \n",
       "3          6          Luis_Ayala    Luis_Ayala        True         3   \n",
       "4          5  Nicola_Pietrangeli    Luis_Ayala       False         2   \n",
       "\n",
       "   forehand  unknown  forehand_ratio  backhand_ratio  \n",
       "0         1        1             0.5             0.5  \n",
       "1         7        1             0.5             0.5  \n",
       "2         1        2             0.5             0.5  \n",
       "3         2        2             0.4             0.6  \n",
       "4         2        1             0.5             0.5  "
      ]
     },
     "execution_count": 4,
     "metadata": {},
     "output_type": "execute_result"
    }
   ],
   "source": [
    "# 02_point_outcome_model.ipynb\n",
    "\n",
    "import pandas as pd\n",
    "from pathlib import Path\n",
    "\n",
    "# Load processed dataset\n",
    "data_path = Path(\"../data/processed/point_level_rg.csv.gz\")\n",
    "df = pd.read_csv(data_path, compression=\"gzip\")\n",
    "\n",
    "print(f\"✅ Loaded dataset with {len(df):,} rows\")\n",
    "df.head()\n"
   ]
  },
  {
   "cell_type": "markdown",
   "id": "cd02b665",
   "metadata": {},
   "source": [
    "## Step 2 - Start with simple features (inputs) and select target (output)\n"
   ]
  },
  {
   "cell_type": "code",
   "execution_count": 5,
   "id": "3dcef1dc",
   "metadata": {},
   "outputs": [],
   "source": [
    "features = ['rally_len', 'forehand_ratio', 'backhand_ratio']\n",
    "target = 'server_won'\n",
    "\n",
    "X = df[features].fillna(0)\n",
    "y = df[target].astype(int)\n"
   ]
  },
  {
   "cell_type": "markdown",
   "id": "f5e5f66d",
   "metadata": {},
   "source": [
    "## Step 3 - Split data and scale features\n"
   ]
  },
  {
   "cell_type": "code",
   "execution_count": 6,
   "id": "0d4d2514",
   "metadata": {},
   "outputs": [],
   "source": [
    "from sklearn.model_selection import train_test_split\n",
    "from sklearn.preprocessing import StandardScaler\n",
    "\n",
    "# Split data into train/test sets\n",
    "X_train, X_test, y_train, y_test = train_test_split(\n",
    "    X, y, test_size=0.2, random_state=42, stratify=y\n",
    ")\n",
    "\n",
    "# Standardize numeric features\n",
    "scaler = StandardScaler()\n",
    "X_train_scaled = scaler.fit_transform(X_train)\n",
    "X_test_scaled = scaler.transform(X_test)"
   ]
  },
  {
   "cell_type": "markdown",
   "id": "2b4a0675",
   "metadata": {},
   "source": [
    "## Step 4 - Train baseline logistic regression model\n"
   ]
  },
  {
   "cell_type": "code",
   "execution_count": 7,
   "id": "6291a8b6",
   "metadata": {},
   "outputs": [
    {
     "name": "stdout",
     "output_type": "stream",
     "text": [
      "Accuracy: 0.610\n",
      "ROC-AUC:  0.606\n",
      "\n",
      "Classification Report:\n",
      "               precision    recall  f1-score   support\n",
      "\n",
      "           0       0.50      0.10      0.16      5722\n",
      "           1       0.62      0.94      0.75      8948\n",
      "\n",
      "    accuracy                           0.61     14670\n",
      "   macro avg       0.56      0.52      0.45     14670\n",
      "weighted avg       0.57      0.61      0.52     14670\n",
      "\n"
     ]
    }
   ],
   "source": [
    "from sklearn.linear_model import LogisticRegression\n",
    "from sklearn.metrics import accuracy_score, roc_auc_score, classification_report\n",
    "\n",
    "# Train model\n",
    "model = LogisticRegression(max_iter=1000)\n",
    "model.fit(X_train_scaled, y_train)\n",
    "\n",
    "# Predict on test data\n",
    "y_pred = model.predict(X_test_scaled)\n",
    "y_pred_prob = model.predict_proba(X_test_scaled)[:, 1]\n",
    "\n",
    "# Evaluate\n",
    "acc = accuracy_score(y_test, y_pred)\n",
    "roc = roc_auc_score(y_test, y_pred_prob)\n",
    "\n",
    "print(f\"Accuracy: {acc:.3f}\")\n",
    "print(f\"ROC-AUC:  {roc:.3f}\")\n",
    "print(\"\\nClassification Report:\\n\", classification_report(y_test, y_pred))\n"
   ]
  },
  {
   "cell_type": "markdown",
   "id": "fd817f1e",
   "metadata": {},
   "source": [
    "## Step 5 - Interpret feature importance\n"
   ]
  },
  {
   "cell_type": "code",
   "execution_count": 8,
   "id": "2ea7273a",
   "metadata": {},
   "outputs": [
    {
     "name": "stdout",
     "output_type": "stream",
     "text": [
      "          Feature  Coefficient\n",
      "2  backhand_ratio     0.034138\n",
      "1  forehand_ratio    -0.014423\n",
      "0       rally_len    -0.298726\n"
     ]
    }
   ],
   "source": [
    "coef_df = pd.DataFrame({\n",
    "    'Feature': features,\n",
    "    'Coefficient': model.coef_[0]\n",
    "}).sort_values(by='Coefficient', ascending=False)\n",
    "\n",
    "print(coef_df)\n"
   ]
  }
 ],
 "metadata": {
  "kernelspec": {
   "display_name": ".venv (3.12.7)",
   "language": "python",
   "name": "python3"
  },
  "language_info": {
   "codemirror_mode": {
    "name": "ipython",
    "version": 3
   },
   "file_extension": ".py",
   "mimetype": "text/x-python",
   "name": "python",
   "nbconvert_exporter": "python",
   "pygments_lexer": "ipython3",
   "version": "3.12.7"
  }
 },
 "nbformat": 4,
 "nbformat_minor": 5
}
