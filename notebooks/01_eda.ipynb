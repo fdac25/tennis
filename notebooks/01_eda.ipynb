{
 "cells": [
  {
   "cell_type": "markdown",
   "id": "7fb957c9",
   "metadata": {},
   "source": [
    "# Exploratory Data Analysis\n",
    "\n",
    "This is the first step of understanding the tennis point data after downloading it.\n",
    "\n",
    "The goals for this notebook are as follows:\n",
    "\n",
    "- Examine the layout of the data\n",
    "- Take some basic stats like counts / percentages of different shots\n",
    "- Make some basic plots / charts\n"
   ]
  },
  {
   "cell_type": "code",
   "execution_count": null,
   "id": "1ef6709f",
   "metadata": {
    "vscode": {
     "languageId": "plaintext"
    }
   },
   "outputs": [],
   "source": [
    "import pandas as pd\n",
    "\n",
    "df = pd.read_csv(\"data/raw/tennis-m-shots-rg.csv\")\n",
    "\n",
    "df.shape\n",
    "df.head()\n"
   ]
  }
 ],
 "metadata": {
  "language_info": {
   "name": "python"
  }
 },
 "nbformat": 4,
 "nbformat_minor": 5
}
